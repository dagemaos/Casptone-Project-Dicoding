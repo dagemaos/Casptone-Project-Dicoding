{
  "nbformat": 4,
  "nbformat_minor": 0,
  "metadata": {
    "colab": {
      "name": "Capstone Project.ipynb",
      "provenance": [],
      "collapsed_sections": []
    },
    "kernelspec": {
      "name": "python3",
      "display_name": "Python 3"
    },
    "language_info": {
      "name": "python"
    }
  },
  "cells": [
    {
      "cell_type": "markdown",
      "source": [
        "# **Data Understanding**"
      ],
      "metadata": {
        "id": "fVnRCHtQUl8N"
      }
    },
    {
      "cell_type": "code",
      "execution_count": null,
      "metadata": {
        "id": "XNSlRJnVAS-K"
      },
      "outputs": [],
      "source": [
        "# Untuk visualisasi data\n",
        "import matplotlib.pyplot as plt\n",
        "import seaborn as sns\n",
        "import plotly.graph_objects as go\n",
        "\n",
        "# Untuk pengolahan data\n",
        "import numpy as np\n",
        "import pandas as pd\n",
        "\n",
        "# Untuk pembuatan model\n",
        "from sklearn.feature_extraction.text import CountVectorizer\n",
        "from sklearn.feature_extraction.text import TfidfVectorizer\n",
        "from sklearn.metrics.pairwise import cosine_similarity"
      ]
    },
    {
      "cell_type": "code",
      "source": [
        "dataset = pd.read_csv('Hotels_Jakarta.csv')"
      ],
      "metadata": {
        "id": "jyFBtHVmD3JM"
      },
      "execution_count": null,
      "outputs": []
    },
    {
      "cell_type": "code",
      "source": [
        "dataset.head()"
      ],
      "metadata": {
        "colab": {
          "base_uri": "https://localhost:8080/",
          "height": 293
        },
        "id": "JeQMug7bEdgA",
        "outputId": "947f01d2-3ff8-4f6a-a331-a555af7f404a"
      },
      "execution_count": null,
      "outputs": [
        {
          "output_type": "execute_result",
          "data": {
            "text/html": [
              "<div>\n",
              "<style scoped>\n",
              "    .dataframe tbody tr th:only-of-type {\n",
              "        vertical-align: middle;\n",
              "    }\n",
              "\n",
              "    .dataframe tbody tr th {\n",
              "        vertical-align: top;\n",
              "    }\n",
              "\n",
              "    .dataframe thead th {\n",
              "        text-align: right;\n",
              "    }\n",
              "</style>\n",
              "<table border=\"1\" class=\"dataframe\">\n",
              "  <thead>\n",
              "    <tr style=\"text-align: right;\">\n",
              "      <th></th>\n",
              "      <th>hotel_name</th>\n",
              "      <th>hotel_name_link</th>\n",
              "      <th>review_score</th>\n",
              "      <th>review_score_text</th>\n",
              "      <th>review_score_title</th>\n",
              "      <th>hotel_image</th>\n",
              "      <th>hotel_price</th>\n",
              "    </tr>\n",
              "  </thead>\n",
              "  <tbody>\n",
              "    <tr>\n",
              "      <th>0</th>\n",
              "      <td>Ascott Sudirman Jakarta</td>\n",
              "      <td>\\n/hotel/id/ascott-sudirman-jakarta-jakarta.en...</td>\n",
              "      <td>8.7</td>\n",
              "      <td>1,259 reviews</td>\n",
              "      <td>Fabulous</td>\n",
              "      <td>https://cf.bstatic.com/xdata/images/hotel/squa...</td>\n",
              "      <td>Rp 1,062,187</td>\n",
              "    </tr>\n",
              "    <tr>\n",
              "      <th>1</th>\n",
              "      <td>Ascott Jakarta</td>\n",
              "      <td>\\n/hotel/id/ascott-jakarta.en-gb.html?aid=3041...</td>\n",
              "      <td>8.6</td>\n",
              "      <td>1,811 reviews</td>\n",
              "      <td>Fabulous</td>\n",
              "      <td>https://cf.bstatic.com/xdata/images/hotel/squa...</td>\n",
              "      <td>Rp 934,725</td>\n",
              "    </tr>\n",
              "    <tr>\n",
              "      <th>2</th>\n",
              "      <td>Four Seasons Hotel Jakarta</td>\n",
              "      <td>\\n/hotel/id/four-seasons-jakarta-jakarta.en-gb...</td>\n",
              "      <td>9.2</td>\n",
              "      <td>409 reviews</td>\n",
              "      <td>Superb</td>\n",
              "      <td>https://cf.bstatic.com/xdata/images/hotel/squa...</td>\n",
              "      <td>Rp 2,763,882</td>\n",
              "    </tr>\n",
              "    <tr>\n",
              "      <th>3</th>\n",
              "      <td>Shangri-La Hotel Jakarta</td>\n",
              "      <td>\\n/hotel/id/shangri-la-jakarta.en-gb.html?aid=...</td>\n",
              "      <td>8.9</td>\n",
              "      <td>685 reviews</td>\n",
              "      <td>Fabulous</td>\n",
              "      <td>https://cf.bstatic.com/xdata/images/hotel/squa...</td>\n",
              "      <td>Rp 1,667,597</td>\n",
              "    </tr>\n",
              "    <tr>\n",
              "      <th>4</th>\n",
              "      <td>Ascott Kuningan Jakarta</td>\n",
              "      <td>\\n/hotel/id/ascott-kuningan-jakarta.en-gb.html...</td>\n",
              "      <td>8.6</td>\n",
              "      <td>865 reviews</td>\n",
              "      <td>Fabulous</td>\n",
              "      <td>https://cf.bstatic.com/xdata/images/hotel/squa...</td>\n",
              "      <td>Rp 1,274,625</td>\n",
              "    </tr>\n",
              "  </tbody>\n",
              "</table>\n",
              "</div>"
            ],
            "text/plain": [
              "                   hotel_name  ...   hotel_price\n",
              "0     Ascott Sudirman Jakarta  ...  Rp 1,062,187\n",
              "1              Ascott Jakarta  ...    Rp 934,725\n",
              "2  Four Seasons Hotel Jakarta  ...  Rp 2,763,882\n",
              "3    Shangri-La Hotel Jakarta  ...  Rp 1,667,597\n",
              "4     Ascott Kuningan Jakarta  ...  Rp 1,274,625\n",
              "\n",
              "[5 rows x 7 columns]"
            ]
          },
          "metadata": {},
          "execution_count": 5
        }
      ]
    },
    {
      "cell_type": "code",
      "source": [
        "dataset.shape"
      ],
      "metadata": {
        "colab": {
          "base_uri": "https://localhost:8080/"
        },
        "id": "gxMw5urgkYDa",
        "outputId": "e903f94c-efa1-4663-85f7-d28ce93aa830"
      },
      "execution_count": null,
      "outputs": [
        {
          "output_type": "execute_result",
          "data": {
            "text/plain": [
              "(676, 7)"
            ]
          },
          "metadata": {},
          "execution_count": 6
        }
      ]
    },
    {
      "cell_type": "code",
      "source": [
        "dataset.info()"
      ],
      "metadata": {
        "colab": {
          "base_uri": "https://localhost:8080/"
        },
        "id": "D9yWjXzrEnfY",
        "outputId": "6f4d918c-2db9-46e0-be4c-9b2c67605f56"
      },
      "execution_count": null,
      "outputs": [
        {
          "output_type": "stream",
          "name": "stdout",
          "text": [
            "<class 'pandas.core.frame.DataFrame'>\n",
            "RangeIndex: 676 entries, 0 to 675\n",
            "Data columns (total 7 columns):\n",
            " #   Column              Non-Null Count  Dtype  \n",
            "---  ------              --------------  -----  \n",
            " 0   hotel_name          676 non-null    object \n",
            " 1   hotel_name_link     676 non-null    object \n",
            " 2   review_score        676 non-null    float64\n",
            " 3   review_score_text   676 non-null    object \n",
            " 4   review_score_title  676 non-null    object \n",
            " 5   hotel_image         676 non-null    object \n",
            " 6   hotel_price         676 non-null    object \n",
            "dtypes: float64(1), object(6)\n",
            "memory usage: 37.1+ KB\n"
          ]
        }
      ]
    },
    {
      "cell_type": "markdown",
      "source": [
        "#**Exploratory Data Analysis**"
      ],
      "metadata": {
        "id": "lUtVDBs4U5nG"
      }
    },
    {
      "cell_type": "code",
      "source": [
        "# visualisasi most frequent values di dataset\n",
        "for column in ('hotel_name', 'review_score', 'review_score_text', 'review_score_title', 'hotel_price'):\n",
        "    print('-' * 100)\n",
        "    counts = dataset[column].value_counts().nlargest(20)\n",
        "    plt.bar(counts.index, counts.values)\n",
        "    plt.xticks(rotation=90)\n",
        "    plt.title(f'{column} Most Frequent Values')\n",
        "    plt.tight_layout()\n",
        "    plt.show()"
      ],
      "metadata": {
        "colab": {
          "base_uri": "https://localhost:8080/",
          "height": 1000
        },
        "id": "qpDCGoeOXXzv",
        "outputId": "5645f603-3055-4f07-f605-c04d803091be"
      },
      "execution_count": null,
      "outputs": [
        {
          "output_type": "stream",
          "name": "stdout",
          "text": [
            "----------------------------------------------------------------------------------------------------\n"
          ]
        },
        {
          "output_type": "stream",
          "name": "stderr",
          "text": [
            "/usr/local/lib/python3.7/dist-packages/ipykernel_launcher.py:8: UserWarning:\n",
            "\n",
            "Tight layout not applied. The bottom and top margins cannot be made large enough to accommodate all axes decorations. \n",
            "\n"
          ]
        },
        {
          "output_type": "display_data",
          "data": {
            "image/png": "[encoded data removed]",
            "text/plain": [
              "<Figure size 432x288 with 1 Axes>"
            ]
          },
          "metadata": {
            "needs_background": "light"
          }
        },
        {
          "output_type": "stream",
          "name": "stdout",
          "text": [
            "----------------------------------------------------------------------------------------------------\n"
          ]
        },
        {
          "output_type": "display_data",
          "data": {
            "image/png": "[encoded data removed]",
            "text/plain": [
              "<Figure size 432x288 with 1 Axes>"
            ]
          },
          "metadata": {
            "needs_background": "light"
          }
        },
        {
          "output_type": "stream",
          "name": "stdout",
          "text": [
            "----------------------------------------------------------------------------------------------------\n"
          ]
        },
        {
          "output_type": "display_data",
          "data": {
            "image/png": "[encoded data removed]",
            "text/plain": [
              "<Figure size 432x288 with 1 Axes>"
            ]
          },
          "metadata": {
            "needs_background": "light"
          }
        },
        {
          "output_type": "stream",
          "name": "stdout",
          "text": [
            "----------------------------------------------------------------------------------------------------\n"
          ]
        },
        {
          "output_type": "display_data",
          "data": {
            "image/png": "[encoded data removed]",
            "text/plain": [
              "<Figure size 432x288 with 1 Axes>"
            ]
          },
          "metadata": {
            "needs_background": "light"
          }
        },
        {
          "output_type": "stream",
          "name": "stdout",
          "text": [
            "----------------------------------------------------------------------------------------------------\n"
          ]
        },
        {
          "output_type": "display_data",
          "data": {
            "image/png": "[encoded data removed]",
            "text/plain": [
              "<Figure size 432x288 with 1 Axes>"
            ]
          },
          "metadata": {
            "needs_background": "light"
          }
        }
      ]
    },
    {
      "cell_type": "code",
      "source": [
        "plt.figure(figsize = (12,6))\n",
        "sns.histplot(dataset, x = dataset['review_score'], color='b')"
      ],
      "metadata": {
        "colab": {
          "base_uri": "https://localhost:8080/",
          "height": 406
        },
        "id": "RbNJxWACEsch",
        "outputId": "f8169112-e6da-4b33-e85a-4952f1bb709a"
      },
      "execution_count": null,
      "outputs": [
        {
          "output_type": "execute_result",
          "data": {
            "text/plain": [
              "<matplotlib.axes._subplots.AxesSubplot at 0x7fe43b05a090>"
            ]
          },
          "metadata": {},
          "execution_count": 9
        },
        {
          "output_type": "display_data",
          "data": {
            "image/png": "[encoded data removed]",
            "text/plain": [
              "<Figure size 864x432 with 1 Axes>"
            ]
          },
          "metadata": {
            "needs_background": "light"
          }
        }
      ]
    },
    {
      "cell_type": "code",
      "source": [
        "plt.figure(figsize = (12,6))\n",
        "sns.barplot(x='hotel_name',y='review_score',data=dataset.iloc[:10,:])\n",
        "plt.xticks(rotation=90)\n",
        "plt.plot"
      ],
      "metadata": {
        "colab": {
          "base_uri": "https://localhost:8080/",
          "height": 614
        },
        "id": "H5vpQLspnZ1w",
        "outputId": "fbab80a4-a6a6-4132-f2c2-29a5b318ec1e"
      },
      "execution_count": null,
      "outputs": [
        {
          "output_type": "execute_result",
          "data": {
            "text/plain": [
              "<function matplotlib.pyplot.plot>"
            ]
          },
          "metadata": {},
          "execution_count": 10
        },
        {
          "output_type": "display_data",
          "data": {
            "image/png": "[encoded data removed]",
            "text/plain": [
              "<Figure size 864x432 with 1 Axes>"
            ]
          },
          "metadata": {
            "needs_background": "light"
          }
        }
      ]
    },
    {
      "cell_type": "markdown",
      "source": [
        "#**Data Preparation**"
      ],
      "metadata": {
        "id": "XJhG4lLpU_x3"
      }
    },
    {
      "cell_type": "code",
      "source": [
        "dataset.isnull().sum()"
      ],
      "metadata": {
        "colab": {
          "base_uri": "https://localhost:8080/"
        },
        "id": "tLPdgeNfQEP9",
        "outputId": "5f562089-4d0e-4c75-ac0e-be46b2c54fe7"
      },
      "execution_count": null,
      "outputs": [
        {
          "output_type": "execute_result",
          "data": {
            "text/plain": [
              "hotel_name            0\n",
              "hotel_name_link       0\n",
              "review_score          0\n",
              "review_score_text     0\n",
              "review_score_title    0\n",
              "hotel_image           0\n",
              "hotel_price           0\n",
              "dtype: int64"
            ]
          },
          "metadata": {},
          "execution_count": 11
        }
      ]
    },
    {
      "cell_type": "code",
      "source": [
        "#dataset.rename(columns = {'hotel_name':'name', 'hotel_name_link': 'hotel_link', 'review_score': 'review', 'review_score_text': 'total_review', 'review_score_title': 'review_title', 'hotel_image': 'image', 'hotel_price': 'price'},inplace = True)"
      ],
      "metadata": {
        "id": "O0UTPlMoTDCH"
      },
      "execution_count": null,
      "outputs": []
    },
    {
      "cell_type": "code",
      "source": [
        "# Mengidentifikasi fitur yang digunakan untuk mencari rekomendasi\n",
        "dataset_columns = ['hotel_name','review_score_text', 'review_score_title', 'hotel_price']\n",
        "dataset = dataset[dataset_columns]"
      ],
      "metadata": {
        "id": "W7cgxHeFQasP"
      },
      "execution_count": null,
      "outputs": []
    },
    {
      "cell_type": "code",
      "source": [
        "# Function untuk mengubah huruf menjadi huruf kecil\n",
        "def data_cleaning(x):\n",
        "    return str.lower(x.replace(\" \", \"\"))"
      ],
      "metadata": {
        "id": "NV0okDANoJd5"
      },
      "execution_count": null,
      "outputs": []
    },
    {
      "cell_type": "code",
      "source": [
        "# Menampilkan data\n",
        "for dataset_column in dataset_columns:\n",
        "  dataset[dataset_column] = dataset[dataset_column].apply(data_cleaning)\n",
        "\n",
        "dataset.head()"
      ],
      "metadata": {
        "colab": {
          "base_uri": "https://localhost:8080/",
          "height": 345
        },
        "id": "NwD4opsuoNeH",
        "outputId": "9e45b5e7-337a-4532-afc5-7cb2e53127cb"
      },
      "execution_count": null,
      "outputs": [
        {
          "output_type": "stream",
          "name": "stderr",
          "text": [
            "/usr/local/lib/python3.7/dist-packages/ipykernel_launcher.py:3: SettingWithCopyWarning:\n",
            "\n",
            "\n",
            "A value is trying to be set on a copy of a slice from a DataFrame.\n",
            "Try using .loc[row_indexer,col_indexer] = value instead\n",
            "\n",
            "See the caveats in the documentation: https://pandas.pydata.org/pandas-docs/stable/user_guide/indexing.html#returning-a-view-versus-a-copy\n",
            "\n"
          ]
        },
        {
          "output_type": "execute_result",
          "data": {
            "text/html": [
              "<div>\n",
              "<style scoped>\n",
              "    .dataframe tbody tr th:only-of-type {\n",
              "        vertical-align: middle;\n",
              "    }\n",
              "\n",
              "    .dataframe tbody tr th {\n",
              "        vertical-align: top;\n",
              "    }\n",
              "\n",
              "    .dataframe thead th {\n",
              "        text-align: right;\n",
              "    }\n",
              "</style>\n",
              "<table border=\"1\" class=\"dataframe\">\n",
              "  <thead>\n",
              "    <tr style=\"text-align: right;\">\n",
              "      <th></th>\n",
              "      <th>hotel_name</th>\n",
              "      <th>review_score_text</th>\n",
              "      <th>review_score_title</th>\n",
              "      <th>hotel_price</th>\n",
              "    </tr>\n",
              "  </thead>\n",
              "  <tbody>\n",
              "    <tr>\n",
              "      <th>0</th>\n",
              "      <td>ascottsudirmanjakarta</td>\n",
              "      <td>1,259reviews</td>\n",
              "      <td>fabulous</td>\n",
              "      <td>rp 1,062,187</td>\n",
              "    </tr>\n",
              "    <tr>\n",
              "      <th>1</th>\n",
              "      <td>ascottjakarta</td>\n",
              "      <td>1,811reviews</td>\n",
              "      <td>fabulous</td>\n",
              "      <td>rp 934,725</td>\n",
              "    </tr>\n",
              "    <tr>\n",
              "      <th>2</th>\n",
              "      <td>fourseasonshoteljakarta</td>\n",
              "      <td>409reviews</td>\n",
              "      <td>superb</td>\n",
              "      <td>rp 2,763,882</td>\n",
              "    </tr>\n",
              "    <tr>\n",
              "      <th>3</th>\n",
              "      <td>shangri-lahoteljakarta</td>\n",
              "      <td>685reviews</td>\n",
              "      <td>fabulous</td>\n",
              "      <td>rp 1,667,597</td>\n",
              "    </tr>\n",
              "    <tr>\n",
              "      <th>4</th>\n",
              "      <td>ascottkuninganjakarta</td>\n",
              "      <td>865reviews</td>\n",
              "      <td>fabulous</td>\n",
              "      <td>rp 1,274,625</td>\n",
              "    </tr>\n",
              "  </tbody>\n",
              "</table>\n",
              "</div>"
            ],
            "text/plain": [
              "                hotel_name review_score_text review_score_title   hotel_price\n",
              "0    ascottsudirmanjakarta      1,259reviews           fabulous  rp 1,062,187\n",
              "1            ascottjakarta      1,811reviews           fabulous    rp 934,725\n",
              "2  fourseasonshoteljakarta        409reviews             superb  rp 2,763,882\n",
              "3   shangri-lahoteljakarta        685reviews           fabulous  rp 1,667,597\n",
              "4    ascottkuninganjakarta        865reviews           fabulous  rp 1,274,625"
            ]
          },
          "metadata": {},
          "execution_count": 15
        }
      ]
    },
    {
      "cell_type": "markdown",
      "source": [
        "#**Modeling**"
      ],
      "metadata": {
        "id": "8jGxYdqzjpPp"
      }
    },
    {
      "cell_type": "code",
      "source": [
        "# Memberikan nilai bobot dengan TfidfVectorizer\n",
        "tfidf = TfidfVectorizer(stop_words='english')\n",
        "\n",
        "# Membangun matriks TF-IDF dengan fitting dan transformasi data\n",
        "tfidf_matrix = tfidf.fit_transform(dataset['hotel_price'])\n",
        "\n",
        "print(\"Shape TF-IDF :\", tfidf_matrix.shape)"
      ],
      "metadata": {
        "colab": {
          "base_uri": "https://localhost:8080/"
        },
        "id": "yryxio7tjhaY",
        "outputId": "65b965da-a957-4769-9007-911d92f50374"
      },
      "execution_count": null,
      "outputs": [
        {
          "output_type": "stream",
          "name": "stdout",
          "text": [
            "Shape TF-IDF : (676, 569)\n"
          ]
        }
      ]
    },
    {
      "cell_type": "code",
      "source": [
        "# Menghitung nilai cosine similarity\n",
        "cosine_simA = cosine_similarity(tfidf_matrix, tfidf_matrix)"
      ],
      "metadata": {
        "id": "nGevREZio6qC"
      },
      "execution_count": null,
      "outputs": []
    },
    {
      "cell_type": "code",
      "source": [
        "# Buat variabel indicies sebagai set indexing utama\n",
        "indices = pd.Series(dataset.index, index = dataset['hotel_name'])\n",
        "\n",
        "# Function untuk mendapatkan rekomendasi\n",
        "def hotel_recommendation(hotel_name, cosine_simA = cosine_similarity):\n",
        "    idx = indices[hotel_name]\n",
        "\n",
        "    # Untuk mendapatkan skor similarity dari semua hotel dengan hotel terpilih\n",
        "    score_similarity = list(enumerate(cosine_simA[idx]))\n",
        "\n",
        "    # Untuk mengurutkan hotel bersadarkan skor similarity\n",
        "    score_similarity = sorted(score_similarity, key=lambda x: x[1], reverse=True)\n",
        "\n",
        "    # Untuk mendapatkan 10 hotel yang paling mirip\n",
        "    score_similarity = score_similarity[1:11]\n",
        "\n",
        "    # Untuk index hotel\n",
        "    hotel_indices = [i[0] for i in score_similarity]\n",
        "\n",
        "    # Mengembalikan 10 hotel teratas yang paling mirip\n",
        "    return pd.DataFrame(dataset[['hotel_name', 'review_score_text', 'review_score_title', 'hotel_price']]).iloc[hotel_indices]"
      ],
      "metadata": {
        "id": "vMtzjeutpFpc"
      },
      "execution_count": null,
      "outputs": []
    },
    {
      "cell_type": "code",
      "source": [
        "# Function untuk menampilkan data dari hotel yang dipilih\n",
        "def hotel_rec(x):\n",
        "  return dataset[dataset['hotel_name'].str.contains(x)==True]"
      ],
      "metadata": {
        "id": "WMmf_q87p0Mo"
      },
      "execution_count": null,
      "outputs": []
    },
    {
      "cell_type": "code",
      "source": [
        "# Cek Data Asli\n",
        "hotel_rec(\"fourseasonshoteljakarta\")"
      ],
      "metadata": {
        "colab": {
          "base_uri": "https://localhost:8080/",
          "height": 81
        },
        "id": "ZqgQie21qIfL",
        "outputId": "0f98a3b0-7fe3-40b3-c32c-2fc34b97d53b"
      },
      "execution_count": null,
      "outputs": [
        {
          "output_type": "execute_result",
          "data": {
            "text/html": [
              "<div>\n",
              "<style scoped>\n",
              "    .dataframe tbody tr th:only-of-type {\n",
              "        vertical-align: middle;\n",
              "    }\n",
              "\n",
              "    .dataframe tbody tr th {\n",
              "        vertical-align: top;\n",
              "    }\n",
              "\n",
              "    .dataframe thead th {\n",
              "        text-align: right;\n",
              "    }\n",
              "</style>\n",
              "<table border=\"1\" class=\"dataframe\">\n",
              "  <thead>\n",
              "    <tr style=\"text-align: right;\">\n",
              "      <th></th>\n",
              "      <th>hotel_name</th>\n",
              "      <th>review_score_text</th>\n",
              "      <th>review_score_title</th>\n",
              "      <th>hotel_price</th>\n",
              "    </tr>\n",
              "  </thead>\n",
              "  <tbody>\n",
              "    <tr>\n",
              "      <th>2</th>\n",
              "      <td>fourseasonshoteljakarta</td>\n",
              "      <td>409reviews</td>\n",
              "      <td>superb</td>\n",
              "      <td>rp 2,763,882</td>\n",
              "    </tr>\n",
              "  </tbody>\n",
              "</table>\n",
              "</div>"
            ],
            "text/plain": [
              "                hotel_name review_score_text review_score_title   hotel_price\n",
              "2  fourseasonshoteljakarta        409reviews             superb  rp 2,763,882"
            ]
          },
          "metadata": {},
          "execution_count": 20
        }
      ]
    },
    {
      "cell_type": "code",
      "source": [
        "# Hasil 10 hotel rekomendasi\n",
        "hotel_recommendation('fourseasonshoteljakarta', cosine_simA)"
      ],
      "metadata": {
        "colab": {
          "base_uri": "https://localhost:8080/",
          "height": 363
        },
        "id": "riZvYkifrzEk",
        "outputId": "88175246-78d9-414e-c6a4-4520f8607956"
      },
      "execution_count": null,
      "outputs": [
        {
          "output_type": "execute_result",
          "data": {
            "text/html": [
              "<div>\n",
              "<style scoped>\n",
              "    .dataframe tbody tr th:only-of-type {\n",
              "        vertical-align: middle;\n",
              "    }\n",
              "\n",
              "    .dataframe tbody tr th {\n",
              "        vertical-align: top;\n",
              "    }\n",
              "\n",
              "    .dataframe thead th {\n",
              "        text-align: right;\n",
              "    }\n",
              "</style>\n",
              "<table border=\"1\" class=\"dataframe\">\n",
              "  <thead>\n",
              "    <tr style=\"text-align: right;\">\n",
              "      <th></th>\n",
              "      <th>hotel_name</th>\n",
              "      <th>review_score_text</th>\n",
              "      <th>review_score_title</th>\n",
              "      <th>hotel_price</th>\n",
              "    </tr>\n",
              "  </thead>\n",
              "  <tbody>\n",
              "    <tr>\n",
              "      <th>267</th>\n",
              "      <td>reddoorzneartamanpalem</td>\n",
              "      <td>36reviews</td>\n",
              "      <td>good</td>\n",
              "      <td>rp 188,763</td>\n",
              "    </tr>\n",
              "    <tr>\n",
              "      <th>446</th>\n",
              "      <td>reddoorzplus@cidengtimur</td>\n",
              "      <td>9reviews</td>\n",
              "      <td>good</td>\n",
              "      <td>rp 188,763</td>\n",
              "    </tr>\n",
              "    <tr>\n",
              "      <th>69</th>\n",
              "      <td>grandmercurejakartakemayoran</td>\n",
              "      <td>744reviews</td>\n",
              "      <td>verygood</td>\n",
              "      <td>rp 882,453</td>\n",
              "    </tr>\n",
              "    <tr>\n",
              "      <th>501</th>\n",
              "      <td>upscalesuites</td>\n",
              "      <td>28reviews</td>\n",
              "      <td>verygood</td>\n",
              "      <td>rp 500,000</td>\n",
              "    </tr>\n",
              "    <tr>\n",
              "      <th>658</th>\n",
              "      <td>mediteraniapalaceresidenceskemayoran</td>\n",
              "      <td>8reviews</td>\n",
              "      <td>good</td>\n",
              "      <td>rp 500,000</td>\n",
              "    </tr>\n",
              "    <tr>\n",
              "      <th>147</th>\n",
              "      <td>ibisbudgetjakartacikini</td>\n",
              "      <td>408reviews</td>\n",
              "      <td>good</td>\n",
              "      <td>rp 250,000</td>\n",
              "    </tr>\n",
              "    <tr>\n",
              "      <th>149</th>\n",
              "      <td>ibisbudgetjakartacikini</td>\n",
              "      <td>408reviews</td>\n",
              "      <td>good</td>\n",
              "      <td>rp 250,000</td>\n",
              "    </tr>\n",
              "    <tr>\n",
              "      <th>319</th>\n",
              "      <td>hotelborobudurjakarta</td>\n",
              "      <td>656reviews</td>\n",
              "      <td>verygood</td>\n",
              "      <td>rp 2,250,000</td>\n",
              "    </tr>\n",
              "    <tr>\n",
              "      <th>554</th>\n",
              "      <td>kalibatacitybypesona</td>\n",
              "      <td>4reviews</td>\n",
              "      <td>reviewscore</td>\n",
              "      <td>rp 250,000</td>\n",
              "    </tr>\n",
              "    <tr>\n",
              "      <th>557</th>\n",
              "      <td>kalibatacitybycemara</td>\n",
              "      <td>5reviews</td>\n",
              "      <td>good</td>\n",
              "      <td>rp 250,000</td>\n",
              "    </tr>\n",
              "  </tbody>\n",
              "</table>\n",
              "</div>"
            ],
            "text/plain": [
              "                               hotel_name  ...   hotel_price\n",
              "267                reddoorzneartamanpalem  ...    rp 188,763\n",
              "446              reddoorzplus@cidengtimur  ...    rp 188,763\n",
              "69           grandmercurejakartakemayoran  ...    rp 882,453\n",
              "501                         upscalesuites  ...    rp 500,000\n",
              "658  mediteraniapalaceresidenceskemayoran  ...    rp 500,000\n",
              "147               ibisbudgetjakartacikini  ...    rp 250,000\n",
              "149               ibisbudgetjakartacikini  ...    rp 250,000\n",
              "319                 hotelborobudurjakarta  ...  rp 2,250,000\n",
              "554                  kalibatacitybypesona  ...    rp 250,000\n",
              "557                  kalibatacitybycemara  ...    rp 250,000\n",
              "\n",
              "[10 rows x 4 columns]"
            ]
          },
          "metadata": {},
          "execution_count": 21
        }
      ]
    }
  ]
}