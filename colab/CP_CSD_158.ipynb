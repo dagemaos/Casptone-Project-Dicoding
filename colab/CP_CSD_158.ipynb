{
  "nbformat": 4,
  "nbformat_minor": 0,
  "metadata": {
    "colab": {
      "name": "CP_CSD-158.ipynb",
      "provenance": [],
      "collapsed_sections": []
    },
    "kernelspec": {
      "name": "python3",
      "display_name": "Python 3"
    },
    "language_info": {
      "name": "python"
    }
  },
  "cells": [
    {
      "cell_type": "markdown",
      "source": [
        "#**SISTEM REKOMENDASI HOTEL DI JAKARTA**"
      ],
      "metadata": {
        "id": "qORo31vamfp7"
      }
    },
    {
      "cell_type": "markdown",
      "source": [
        "#**Capstone Project Team ID CSD-158**\n",
        "\n",
        "##**Nama Anggota :**\n",
        "\n",
        "###Ni Putu Ambalika Dewi M014V6059\n",
        "\n",
        "###Ivanri Fleri Simanjuntak M227R4186"
      ],
      "metadata": {
        "id": "n67uRFK-lUmP"
      }
    },
    {
      "cell_type": "markdown",
      "source": [
        "# **Data Understanding**"
      ],
      "metadata": {
        "id": "fVnRCHtQUl8N"
      }
    },
    {
      "cell_type": "code",
      "execution_count": 1,
      "metadata": {
        "id": "XNSlRJnVAS-K"
      },
      "outputs": [],
      "source": [
        "# Library yang digunakan untuk project ini\n",
        "import matplotlib.pyplot as plt\n",
        "import seaborn as sns\n",
        "import plotly.graph_objects as go\n",
        "import numpy as np\n",
        "import pandas as pd\n",
        "from sklearn.feature_extraction.text import CountVectorizer\n",
        "from sklearn.feature_extraction.text import TfidfVectorizer\n",
        "from sklearn.metrics.pairwise import cosine_similarity"
      ]
    },
    {
      "cell_type": "code",
      "source": [
        "dataset = pd.read_csv('Hotels_Jakarta.csv')"
      ],
      "metadata": {
        "id": "jyFBtHVmD3JM"
      },
      "execution_count": 2,
      "outputs": []
    },
    {
      "cell_type": "code",
      "source": [
        "dataset.head()"
      ],
      "metadata": {
        "colab": {
          "base_uri": "https://localhost:8080/",
          "height": 206
        },
        "id": "JeQMug7bEdgA",
        "outputId": "af107e7b-4af0-43c1-d668-239451bc47d0"
      },
      "execution_count": 3,
      "outputs": [
        {
          "output_type": "execute_result",
          "data": {
            "text/html": [
              "\n",
              "  <div id=\"df-6b6604cb-4c48-41bd-b1d9-ab4b8625f3da\">\n",
              "    <div class=\"colab-df-container\">\n",
              "      <div>\n",
              "<style scoped>\n",
              "    .dataframe tbody tr th:only-of-type {\n",
              "        vertical-align: middle;\n",
              "    }\n",
              "\n",
              "    .dataframe tbody tr th {\n",
              "        vertical-align: top;\n",
              "    }\n",
              "\n",
              "    .dataframe thead th {\n",
              "        text-align: right;\n",
              "    }\n",
              "</style>\n",
              "<table border=\"1\" class=\"dataframe\">\n",
              "  <thead>\n",
              "    <tr style=\"text-align: right;\">\n",
              "      <th></th>\n",
              "      <th>hotel_name</th>\n",
              "      <th>hotel_name_link</th>\n",
              "      <th>review_score</th>\n",
              "      <th>review_score_text</th>\n",
              "      <th>review_score_title</th>\n",
              "      <th>hotel_image</th>\n",
              "      <th>hotel_price</th>\n",
              "    </tr>\n",
              "  </thead>\n",
              "  <tbody>\n",
              "    <tr>\n",
              "      <th>0</th>\n",
              "      <td>Ascott Sudirman Jakarta</td>\n",
              "      <td>\\n/hotel/id/ascott-sudirman-jakarta-jakarta.en...</td>\n",
              "      <td>8.7</td>\n",
              "      <td>1,259 reviews</td>\n",
              "      <td>Fabulous</td>\n",
              "      <td>https://cf.bstatic.com/xdata/images/hotel/squa...</td>\n",
              "      <td>Rp 1,062,187</td>\n",
              "    </tr>\n",
              "    <tr>\n",
              "      <th>1</th>\n",
              "      <td>Ascott Jakarta</td>\n",
              "      <td>\\n/hotel/id/ascott-jakarta.en-gb.html?aid=3041...</td>\n",
              "      <td>8.6</td>\n",
              "      <td>1,811 reviews</td>\n",
              "      <td>Fabulous</td>\n",
              "      <td>https://cf.bstatic.com/xdata/images/hotel/squa...</td>\n",
              "      <td>Rp 934,725</td>\n",
              "    </tr>\n",
              "    <tr>\n",
              "      <th>2</th>\n",
              "      <td>Four Seasons Hotel Jakarta</td>\n",
              "      <td>\\n/hotel/id/four-seasons-jakarta-jakarta.en-gb...</td>\n",
              "      <td>9.2</td>\n",
              "      <td>409 reviews</td>\n",
              "      <td>Superb</td>\n",
              "      <td>https://cf.bstatic.com/xdata/images/hotel/squa...</td>\n",
              "      <td>Rp 2,763,882</td>\n",
              "    </tr>\n",
              "    <tr>\n",
              "      <th>3</th>\n",
              "      <td>Shangri-La Hotel Jakarta</td>\n",
              "      <td>\\n/hotel/id/shangri-la-jakarta.en-gb.html?aid=...</td>\n",
              "      <td>8.9</td>\n",
              "      <td>685 reviews</td>\n",
              "      <td>Fabulous</td>\n",
              "      <td>https://cf.bstatic.com/xdata/images/hotel/squa...</td>\n",
              "      <td>Rp 1,667,597</td>\n",
              "    </tr>\n",
              "    <tr>\n",
              "      <th>4</th>\n",
              "      <td>Ascott Kuningan Jakarta</td>\n",
              "      <td>\\n/hotel/id/ascott-kuningan-jakarta.en-gb.html...</td>\n",
              "      <td>8.6</td>\n",
              "      <td>865 reviews</td>\n",
              "      <td>Fabulous</td>\n",
              "      <td>https://cf.bstatic.com/xdata/images/hotel/squa...</td>\n",
              "      <td>Rp 1,274,625</td>\n",
              "    </tr>\n",
              "  </tbody>\n",
              "</table>\n",
              "</div>\n",
              "      <button class=\"colab-df-convert\" onclick=\"convertToInteractive('df-6b6604cb-4c48-41bd-b1d9-ab4b8625f3da')\"\n",
              "              title=\"Convert this dataframe to an interactive table.\"\n",
              "              style=\"display:none;\">\n",
              "        \n",
              "  <svg xmlns=\"http://www.w3.org/2000/svg\" height=\"24px\"viewBox=\"0 0 24 24\"\n",
              "       width=\"24px\">\n",
              "    <path d=\"M0 0h24v24H0V0z\" fill=\"none\"/>\n",
              "    <path d=\"M18.56 5.44l.94 2.06.94-2.06 2.06-.94-2.06-.94-.94-2.06-.94 2.06-2.06.94zm-11 1L8.5 8.5l.94-2.06 2.06-.94-2.06-.94L8.5 2.5l-.94 2.06-2.06.94zm10 10l.94 2.06.94-2.06 2.06-.94-2.06-.94-.94-2.06-.94 2.06-2.06.94z\"/><path d=\"M17.41 7.96l-1.37-1.37c-.4-.4-.92-.59-1.43-.59-.52 0-1.04.2-1.43.59L10.3 9.45l-7.72 7.72c-.78.78-.78 2.05 0 2.83L4 21.41c.39.39.9.59 1.41.59.51 0 1.02-.2 1.41-.59l7.78-7.78 2.81-2.81c.8-.78.8-2.07 0-2.86zM5.41 20L4 18.59l7.72-7.72 1.47 1.35L5.41 20z\"/>\n",
              "  </svg>\n",
              "      </button>\n",
              "      \n",
              "  <style>\n",
              "    .colab-df-container {\n",
              "      display:flex;\n",
              "      flex-wrap:wrap;\n",
              "      gap: 12px;\n",
              "    }\n",
              "\n",
              "    .colab-df-convert {\n",
              "      background-color: #E8F0FE;\n",
              "      border: none;\n",
              "      border-radius: 50%;\n",
              "      cursor: pointer;\n",
              "      display: none;\n",
              "      fill: #1967D2;\n",
              "      height: 32px;\n",
              "      padding: 0 0 0 0;\n",
              "      width: 32px;\n",
              "    }\n",
              "\n",
              "    .colab-df-convert:hover {\n",
              "      background-color: #E2EBFA;\n",
              "      box-shadow: 0px 1px 2px rgba(60, 64, 67, 0.3), 0px 1px 3px 1px rgba(60, 64, 67, 0.15);\n",
              "      fill: #174EA6;\n",
              "    }\n",
              "\n",
              "    [theme=dark] .colab-df-convert {\n",
              "      background-color: #3B4455;\n",
              "      fill: #D2E3FC;\n",
              "    }\n",
              "\n",
              "    [theme=dark] .colab-df-convert:hover {\n",
              "      background-color: #434B5C;\n",
              "      box-shadow: 0px 1px 3px 1px rgba(0, 0, 0, 0.15);\n",
              "      filter: drop-shadow(0px 1px 2px rgba(0, 0, 0, 0.3));\n",
              "      fill: #FFFFFF;\n",
              "    }\n",
              "  </style>\n",
              "\n",
              "      <script>\n",
              "        const buttonEl =\n",
              "          document.querySelector('#df-6b6604cb-4c48-41bd-b1d9-ab4b8625f3da button.colab-df-convert');\n",
              "        buttonEl.style.display =\n",
              "          google.colab.kernel.accessAllowed ? 'block' : 'none';\n",
              "\n",
              "        async function convertToInteractive(key) {\n",
              "          const element = document.querySelector('#df-6b6604cb-4c48-41bd-b1d9-ab4b8625f3da');\n",
              "          const dataTable =\n",
              "            await google.colab.kernel.invokeFunction('convertToInteractive',\n",
              "                                                     [key], {});\n",
              "          if (!dataTable) return;\n",
              "\n",
              "          const docLinkHtml = 'Like what you see? Visit the ' +\n",
              "            '<a target=\"_blank\" href=https://colab.research.google.com/notebooks/data_table.ipynb>data table notebook</a>'\n",
              "            + ' to learn more about interactive tables.';\n",
              "          element.innerHTML = '';\n",
              "          dataTable['output_type'] = 'display_data';\n",
              "          await google.colab.output.renderOutput(dataTable, element);\n",
              "          const docLink = document.createElement('div');\n",
              "          docLink.innerHTML = docLinkHtml;\n",
              "          element.appendChild(docLink);\n",
              "        }\n",
              "      </script>\n",
              "    </div>\n",
              "  </div>\n",
              "  "
            ],
            "text/plain": [
              "                   hotel_name  ...   hotel_price\n",
              "0     Ascott Sudirman Jakarta  ...  Rp 1,062,187\n",
              "1              Ascott Jakarta  ...    Rp 934,725\n",
              "2  Four Seasons Hotel Jakarta  ...  Rp 2,763,882\n",
              "3    Shangri-La Hotel Jakarta  ...  Rp 1,667,597\n",
              "4     Ascott Kuningan Jakarta  ...  Rp 1,274,625\n",
              "\n",
              "[5 rows x 7 columns]"
            ]
          },
          "metadata": {},
          "execution_count": 3
        }
      ]
    },
    {
      "cell_type": "code",
      "source": [
        "dataset.shape"
      ],
      "metadata": {
        "colab": {
          "base_uri": "https://localhost:8080/"
        },
        "id": "gxMw5urgkYDa",
        "outputId": "840ce128-1a8b-4fb4-bc55-255b1a176ad1"
      },
      "execution_count": 4,
      "outputs": [
        {
          "output_type": "execute_result",
          "data": {
            "text/plain": [
              "(676, 7)"
            ]
          },
          "metadata": {},
          "execution_count": 4
        }
      ]
    },
    {
      "cell_type": "code",
      "source": [
        "dataset.info()"
      ],
      "metadata": {
        "colab": {
          "base_uri": "https://localhost:8080/"
        },
        "id": "D9yWjXzrEnfY",
        "outputId": "c6443b37-a345-4edf-aa97-b05f5ea41ac1"
      },
      "execution_count": 5,
      "outputs": [
        {
          "output_type": "stream",
          "name": "stdout",
          "text": [
            "<class 'pandas.core.frame.DataFrame'>\n",
            "RangeIndex: 676 entries, 0 to 675\n",
            "Data columns (total 7 columns):\n",
            " #   Column              Non-Null Count  Dtype  \n",
            "---  ------              --------------  -----  \n",
            " 0   hotel_name          676 non-null    object \n",
            " 1   hotel_name_link     676 non-null    object \n",
            " 2   review_score        676 non-null    float64\n",
            " 3   review_score_text   676 non-null    object \n",
            " 4   review_score_title  676 non-null    object \n",
            " 5   hotel_image         676 non-null    object \n",
            " 6   hotel_price         676 non-null    object \n",
            "dtypes: float64(1), object(6)\n",
            "memory usage: 37.1+ KB\n"
          ]
        }
      ]
    },
    {
      "cell_type": "markdown",
      "source": [
        "#**Exploratory Data Analysis**"
      ],
      "metadata": {
        "id": "lUtVDBs4U5nG"
      }
    },
    {
      "cell_type": "code",
      "source": [
        "# visualisasi most frequent values di dataset\n",
        "for column in ('hotel_name', 'review_score', 'review_score_text', 'review_score_title', 'hotel_price'):\n",
        "    print('-' * 100)\n",
        "    counts = dataset[column].value_counts().nlargest(20)\n",
        "    plt.bar(counts.index, counts.values)\n",
        "    plt.xticks(rotation=90)\n",
        "    plt.title(f'{column} Most Frequent Values')\n",
        "    plt.tight_layout()\n",
        "    plt.show()"
      ],
      "metadata": {
        "colab": {
          "base_uri": "https://localhost:8080/",
          "height": 1000
        },
        "id": "qpDCGoeOXXzv",
        "outputId": "aebbd330-d92e-46bf-a9e8-61752ebdd0cc"
      },
      "execution_count": 6,
      "outputs": [
        {
          "output_type": "stream",
          "name": "stdout",
          "text": [
            "----------------------------------------------------------------------------------------------------\n"
          ]
        },
        {
          "output_type": "stream",
          "name": "stderr",
          "text": [
            "/usr/local/lib/python3.7/dist-packages/ipykernel_launcher.py:8: UserWarning:\n",
            "\n",
            "Tight layout not applied. The bottom and top margins cannot be made large enough to accommodate all axes decorations. \n",
            "\n"
          ]
        },
        {
          "output_type": "display_data",
          "data": {
            "image/png": "[encoded data removed]",
            "text/plain": [
              "<Figure size 432x288 with 1 Axes>"
            ]
          },
          "metadata": {
            "needs_background": "light"
          }
        },
        {
          "output_type": "stream",
          "name": "stdout",
          "text": [
            "----------------------------------------------------------------------------------------------------\n"
          ]
        },
        {
          "output_type": "display_data",
          "data": {
            "image/png": "[encoded data removed]",
            "text/plain": [
              "<Figure size 432x288 with 1 Axes>"
            ]
          },
          "metadata": {
            "needs_background": "light"
          }
        },
        {
          "output_type": "stream",
          "name": "stdout",
          "text": [
            "----------------------------------------------------------------------------------------------------\n"
          ]
        },
        {
          "output_type": "display_data",
          "data": {
            "image/png": "[encoded data removed]",
            "text/plain": [
              "<Figure size 432x288 with 1 Axes>"
            ]
          },
          "metadata": {
            "needs_background": "light"
          }
        },
        {
          "output_type": "stream",
          "name": "stdout",
          "text": [
            "----------------------------------------------------------------------------------------------------\n"
          ]
        },
        {
          "output_type": "display_data",
          "data": {
            "image/png": "[encoded data removed]",
            "text/plain": [
              "<Figure size 432x288 with 1 Axes>"
            ]
          },
          "metadata": {
            "needs_background": "light"
          }
        },
        {
          "output_type": "stream",
          "name": "stdout",
          "text": [
            "----------------------------------------------------------------------------------------------------\n"
          ]
        },
        {
          "output_type": "display_data",
          "data": {
            "image/png": "[encoded data removed]",
            "text/plain": [
              "<Figure size 432x288 with 1 Axes>"
            ]
          },
          "metadata": {
            "needs_background": "light"
          }
        }
      ]
    },
    {
      "cell_type": "code",
      "source": [
        "plt.figure(figsize = (12,6))\n",
        "sns.histplot(dataset, x = dataset['review_score'], color='b')"
      ],
      "metadata": {
        "colab": {
          "base_uri": "https://localhost:8080/",
          "height": 407
        },
        "id": "RbNJxWACEsch",
        "outputId": "b46738bf-64f7-48c8-f946-5eb58d6e166e"
      },
      "execution_count": 7,
      "outputs": [
        {
          "output_type": "execute_result",
          "data": {
            "text/plain": [
              "<matplotlib.axes._subplots.AxesSubplot at 0x7efc0f949c50>"
            ]
          },
          "metadata": {},
          "execution_count": 7
        },
        {
          "output_type": "display_data",
          "data": {
            "image/png": "[encoded data removed]",
            "text/plain": [
              "<Figure size 864x432 with 1 Axes>"
            ]
          },
          "metadata": {
            "needs_background": "light"
          }
        }
      ]
    },
    {
      "cell_type": "code",
      "source": [
        "plt.figure(figsize = (12,6))\n",
        "sns.barplot(x='hotel_name',y='review_score',data=dataset.iloc[:10,:])\n",
        "plt.xticks(rotation=90)\n",
        "plt.plot"
      ],
      "metadata": {
        "colab": {
          "base_uri": "https://localhost:8080/",
          "height": 615
        },
        "id": "H5vpQLspnZ1w",
        "outputId": "e7de65d5-9700-4449-b434-64d613d105ef"
      },
      "execution_count": 8,
      "outputs": [
        {
          "output_type": "execute_result",
          "data": {
            "text/plain": [
              "<function matplotlib.pyplot.plot>"
            ]
          },
          "metadata": {},
          "execution_count": 8
        },
        {
          "output_type": "display_data",
          "data": {
            "image/png": "[encoded data removed]",
            "text/plain": [
              "<Figure size 864x432 with 1 Axes>"
            ]
          },
          "metadata": {
            "needs_background": "light"
          }
        }
      ]
    },
    {
      "cell_type": "markdown",
      "source": [
        "#**Data Preparation**"
      ],
      "metadata": {
        "id": "XJhG4lLpU_x3"
      }
    },
    {
      "cell_type": "code",
      "source": [
        "dataset.isnull().sum()"
      ],
      "metadata": {
        "colab": {
          "base_uri": "https://localhost:8080/"
        },
        "id": "tLPdgeNfQEP9",
        "outputId": "9018c6b9-2344-449f-c3eb-4b968b428f1f"
      },
      "execution_count": 9,
      "outputs": [
        {
          "output_type": "execute_result",
          "data": {
            "text/plain": [
              "hotel_name            0\n",
              "hotel_name_link       0\n",
              "review_score          0\n",
              "review_score_text     0\n",
              "review_score_title    0\n",
              "hotel_image           0\n",
              "hotel_price           0\n",
              "dtype: int64"
            ]
          },
          "metadata": {},
          "execution_count": 9
        }
      ]
    },
    {
      "cell_type": "code",
      "source": [
        "datasets = dataset"
      ],
      "metadata": {
        "id": "ARYfNs519vKM"
      },
      "execution_count": 10,
      "outputs": []
    },
    {
      "cell_type": "code",
      "source": [
        "datasets.isnull().sum()"
      ],
      "metadata": {
        "colab": {
          "base_uri": "https://localhost:8080/"
        },
        "id": "g9I9061G9-UA",
        "outputId": "1d84f2c0-13ec-4d8b-af37-225a877fe7ce"
      },
      "execution_count": 11,
      "outputs": [
        {
          "output_type": "execute_result",
          "data": {
            "text/plain": [
              "hotel_name            0\n",
              "hotel_name_link       0\n",
              "review_score          0\n",
              "review_score_text     0\n",
              "review_score_title    0\n",
              "hotel_image           0\n",
              "hotel_price           0\n",
              "dtype: int64"
            ]
          },
          "metadata": {},
          "execution_count": 11
        }
      ]
    },
    {
      "cell_type": "code",
      "source": [
        "# Fitur yang digunakan pada project ini\n",
        "dataset_columns = ['hotel_name', 'review_score_text', 'review_score_title', 'hotel_price']\n",
        "datasets = datasets[dataset_columns]"
      ],
      "metadata": {
        "id": "W7cgxHeFQasP"
      },
      "execution_count": 13,
      "outputs": []
    },
    {
      "cell_type": "code",
      "source": [
        "# Function yang digunakan untuk mengubah seluruh huruf menjadi huruf kecil\n",
        "def data_cleaning(x):\n",
        "  return str.lower(x.replace(\" \", \"\"))"
      ],
      "metadata": {
        "id": "NV0okDANoJd5"
      },
      "execution_count": 14,
      "outputs": []
    },
    {
      "cell_type": "code",
      "source": [
        "# Menampilkan data cleaning\n",
        "for dataset_column in dataset_columns:\n",
        "  datasets[dataset_column] = datasets[dataset_column].apply(data_cleaning)\n",
        "\n",
        "datasets.head()"
      ],
      "metadata": {
        "colab": {
          "base_uri": "https://localhost:8080/",
          "height": 206
        },
        "id": "NwD4opsuoNeH",
        "outputId": "ee5c72b2-5361-41aa-a3d9-dddcbc3b5ea6"
      },
      "execution_count": 15,
      "outputs": [
        {
          "output_type": "execute_result",
          "data": {
            "text/html": [
              "\n",
              "  <div id=\"df-a4430c6e-158d-4293-b605-5867c5474858\">\n",
              "    <div class=\"colab-df-container\">\n",
              "      <div>\n",
              "<style scoped>\n",
              "    .dataframe tbody tr th:only-of-type {\n",
              "        vertical-align: middle;\n",
              "    }\n",
              "\n",
              "    .dataframe tbody tr th {\n",
              "        vertical-align: top;\n",
              "    }\n",
              "\n",
              "    .dataframe thead th {\n",
              "        text-align: right;\n",
              "    }\n",
              "</style>\n",
              "<table border=\"1\" class=\"dataframe\">\n",
              "  <thead>\n",
              "    <tr style=\"text-align: right;\">\n",
              "      <th></th>\n",
              "      <th>hotel_name</th>\n",
              "      <th>review_score_text</th>\n",
              "      <th>review_score_title</th>\n",
              "      <th>hotel_price</th>\n",
              "    </tr>\n",
              "  </thead>\n",
              "  <tbody>\n",
              "    <tr>\n",
              "      <th>0</th>\n",
              "      <td>ascottsudirmanjakarta</td>\n",
              "      <td>1,259reviews</td>\n",
              "      <td>fabulous</td>\n",
              "      <td>rp 1,062,187</td>\n",
              "    </tr>\n",
              "    <tr>\n",
              "      <th>1</th>\n",
              "      <td>ascottjakarta</td>\n",
              "      <td>1,811reviews</td>\n",
              "      <td>fabulous</td>\n",
              "      <td>rp 934,725</td>\n",
              "    </tr>\n",
              "    <tr>\n",
              "      <th>2</th>\n",
              "      <td>fourseasonshoteljakarta</td>\n",
              "      <td>409reviews</td>\n",
              "      <td>superb</td>\n",
              "      <td>rp 2,763,882</td>\n",
              "    </tr>\n",
              "    <tr>\n",
              "      <th>3</th>\n",
              "      <td>shangri-lahoteljakarta</td>\n",
              "      <td>685reviews</td>\n",
              "      <td>fabulous</td>\n",
              "      <td>rp 1,667,597</td>\n",
              "    </tr>\n",
              "    <tr>\n",
              "      <th>4</th>\n",
              "      <td>ascottkuninganjakarta</td>\n",
              "      <td>865reviews</td>\n",
              "      <td>fabulous</td>\n",
              "      <td>rp 1,274,625</td>\n",
              "    </tr>\n",
              "  </tbody>\n",
              "</table>\n",
              "</div>\n",
              "      <button class=\"colab-df-convert\" onclick=\"convertToInteractive('df-a4430c6e-158d-4293-b605-5867c5474858')\"\n",
              "              title=\"Convert this dataframe to an interactive table.\"\n",
              "              style=\"display:none;\">\n",
              "        \n",
              "  <svg xmlns=\"http://www.w3.org/2000/svg\" height=\"24px\"viewBox=\"0 0 24 24\"\n",
              "       width=\"24px\">\n",
              "    <path d=\"M0 0h24v24H0V0z\" fill=\"none\"/>\n",
              "    <path d=\"M18.56 5.44l.94 2.06.94-2.06 2.06-.94-2.06-.94-.94-2.06-.94 2.06-2.06.94zm-11 1L8.5 8.5l.94-2.06 2.06-.94-2.06-.94L8.5 2.5l-.94 2.06-2.06.94zm10 10l.94 2.06.94-2.06 2.06-.94-2.06-.94-.94-2.06-.94 2.06-2.06.94z\"/><path d=\"M17.41 7.96l-1.37-1.37c-.4-.4-.92-.59-1.43-.59-.52 0-1.04.2-1.43.59L10.3 9.45l-7.72 7.72c-.78.78-.78 2.05 0 2.83L4 21.41c.39.39.9.59 1.41.59.51 0 1.02-.2 1.41-.59l7.78-7.78 2.81-2.81c.8-.78.8-2.07 0-2.86zM5.41 20L4 18.59l7.72-7.72 1.47 1.35L5.41 20z\"/>\n",
              "  </svg>\n",
              "      </button>\n",
              "      \n",
              "  <style>\n",
              "    .colab-df-container {\n",
              "      display:flex;\n",
              "      flex-wrap:wrap;\n",
              "      gap: 12px;\n",
              "    }\n",
              "\n",
              "    .colab-df-convert {\n",
              "      background-color: #E8F0FE;\n",
              "      border: none;\n",
              "      border-radius: 50%;\n",
              "      cursor: pointer;\n",
              "      display: none;\n",
              "      fill: #1967D2;\n",
              "      height: 32px;\n",
              "      padding: 0 0 0 0;\n",
              "      width: 32px;\n",
              "    }\n",
              "\n",
              "    .colab-df-convert:hover {\n",
              "      background-color: #E2EBFA;\n",
              "      box-shadow: 0px 1px 2px rgba(60, 64, 67, 0.3), 0px 1px 3px 1px rgba(60, 64, 67, 0.15);\n",
              "      fill: #174EA6;\n",
              "    }\n",
              "\n",
              "    [theme=dark] .colab-df-convert {\n",
              "      background-color: #3B4455;\n",
              "      fill: #D2E3FC;\n",
              "    }\n",
              "\n",
              "    [theme=dark] .colab-df-convert:hover {\n",
              "      background-color: #434B5C;\n",
              "      box-shadow: 0px 1px 3px 1px rgba(0, 0, 0, 0.15);\n",
              "      filter: drop-shadow(0px 1px 2px rgba(0, 0, 0, 0.3));\n",
              "      fill: #FFFFFF;\n",
              "    }\n",
              "  </style>\n",
              "\n",
              "      <script>\n",
              "        const buttonEl =\n",
              "          document.querySelector('#df-a4430c6e-158d-4293-b605-5867c5474858 button.colab-df-convert');\n",
              "        buttonEl.style.display =\n",
              "          google.colab.kernel.accessAllowed ? 'block' : 'none';\n",
              "\n",
              "        async function convertToInteractive(key) {\n",
              "          const element = document.querySelector('#df-a4430c6e-158d-4293-b605-5867c5474858');\n",
              "          const dataTable =\n",
              "            await google.colab.kernel.invokeFunction('convertToInteractive',\n",
              "                                                     [key], {});\n",
              "          if (!dataTable) return;\n",
              "\n",
              "          const docLinkHtml = 'Like what you see? Visit the ' +\n",
              "            '<a target=\"_blank\" href=https://colab.research.google.com/notebooks/data_table.ipynb>data table notebook</a>'\n",
              "            + ' to learn more about interactive tables.';\n",
              "          element.innerHTML = '';\n",
              "          dataTable['output_type'] = 'display_data';\n",
              "          await google.colab.output.renderOutput(dataTable, element);\n",
              "          const docLink = document.createElement('div');\n",
              "          docLink.innerHTML = docLinkHtml;\n",
              "          element.appendChild(docLink);\n",
              "        }\n",
              "      </script>\n",
              "    </div>\n",
              "  </div>\n",
              "  "
            ],
            "text/plain": [
              "                hotel_name review_score_text review_score_title   hotel_price\n",
              "0    ascottsudirmanjakarta      1,259reviews           fabulous  rp 1,062,187\n",
              "1            ascottjakarta      1,811reviews           fabulous    rp 934,725\n",
              "2  fourseasonshoteljakarta        409reviews             superb  rp 2,763,882\n",
              "3   shangri-lahoteljakarta        685reviews           fabulous  rp 1,667,597\n",
              "4    ascottkuninganjakarta        865reviews           fabulous  rp 1,274,625"
            ]
          },
          "metadata": {},
          "execution_count": 15
        }
      ]
    },
    {
      "cell_type": "markdown",
      "source": [
        "#**Modeling**"
      ],
      "metadata": {
        "id": "8jGxYdqzjpPp"
      }
    },
    {
      "cell_type": "code",
      "source": [
        "tfidf = TfidfVectorizer(stop_words='english')\n",
        "\n",
        "# membuat matriks TF-IDF pada fitting dan transformasi data\n",
        "tfidf_matrix = tfidf.fit_transform(dataset['review_score_title'])\n",
        "\n",
        "print(tfidf_matrix.shape)"
      ],
      "metadata": {
        "colab": {
          "base_uri": "https://localhost:8080/"
        },
        "id": "yryxio7tjhaY",
        "outputId": "8fd7e9a4-1981-4036-f175-c122bf1e94e8"
      },
      "execution_count": 16,
      "outputs": [
        {
          "output_type": "stream",
          "name": "stdout",
          "text": [
            "(676, 6)\n"
          ]
        }
      ]
    },
    {
      "cell_type": "code",
      "source": [
        "# Hitung nilai cosine similarity\n",
        "cosine_simA = cosine_similarity(tfidf_matrix, tfidf_matrix)\n",
        "indices = pd.Series(dataset.index, index = dataset['hotel_name'])"
      ],
      "metadata": {
        "id": "nGevREZio6qC"
      },
      "execution_count": 17,
      "outputs": []
    },
    {
      "cell_type": "code",
      "source": [
        "indices = pd.Series(dataset.index, index = dataset['hotel_name'])\n",
        "\n",
        "# Function yang digunakan untuk menghasilkan rekomendasi hotel\n",
        "def hotel_recommendation(hotel_name, cosine_simA = cosine_similarity):\n",
        "    idx = indices[hotel_name]\n",
        "    score_similarity = list(enumerate(cosine_simA[idx]))\n",
        "    score_similarity = sorted(score_similarity, key=lambda x: x[1], reverse=True)\n",
        "    \n",
        "    # Digunakan untuk mendapatkan 10 hotel yang paling mirip\n",
        "    score_similarity = score_similarity[2:12]\n",
        "    dataset_indices = [i[0] for i in score_similarity]\n",
        "\n",
        "    return pd.DataFrame(dataset[['hotel_name', 'review_score', 'review_score_title', 'hotel_price']]).iloc[dataset_indices]"
      ],
      "metadata": {
        "id": "vMtzjeutpFpc"
      },
      "execution_count": 18,
      "outputs": []
    },
    {
      "cell_type": "code",
      "source": [
        "# Function yang digunakan untuk menampilkan data asli dari hotel yang dipilih\n",
        "def hotel_rec(x):\n",
        "  return dataset[dataset['hotel_name'].str.contains(x)==True]"
      ],
      "metadata": {
        "id": "WMmf_q87p0Mo"
      },
      "execution_count": 19,
      "outputs": []
    },
    {
      "cell_type": "code",
      "source": [
        "# Cek Data Asli\n",
        "hotel_rec(\"Ascott Jakarta\")"
      ],
      "metadata": {
        "colab": {
          "base_uri": "https://localhost:8080/",
          "height": 81
        },
        "id": "ZqgQie21qIfL",
        "outputId": "2c3d8285-294a-492f-c9f8-5222cb15116e"
      },
      "execution_count": 20,
      "outputs": [
        {
          "output_type": "execute_result",
          "data": {
            "text/html": [
              "\n",
              "  <div id=\"df-2b0d15d4-d7d6-4e17-97f7-41ffa35483a9\">\n",
              "    <div class=\"colab-df-container\">\n",
              "      <div>\n",
              "<style scoped>\n",
              "    .dataframe tbody tr th:only-of-type {\n",
              "        vertical-align: middle;\n",
              "    }\n",
              "\n",
              "    .dataframe tbody tr th {\n",
              "        vertical-align: top;\n",
              "    }\n",
              "\n",
              "    .dataframe thead th {\n",
              "        text-align: right;\n",
              "    }\n",
              "</style>\n",
              "<table border=\"1\" class=\"dataframe\">\n",
              "  <thead>\n",
              "    <tr style=\"text-align: right;\">\n",
              "      <th></th>\n",
              "      <th>hotel_name</th>\n",
              "      <th>hotel_name_link</th>\n",
              "      <th>review_score</th>\n",
              "      <th>review_score_text</th>\n",
              "      <th>review_score_title</th>\n",
              "      <th>hotel_image</th>\n",
              "      <th>hotel_price</th>\n",
              "    </tr>\n",
              "  </thead>\n",
              "  <tbody>\n",
              "    <tr>\n",
              "      <th>1</th>\n",
              "      <td>Ascott Jakarta</td>\n",
              "      <td>\\n/hotel/id/ascott-jakarta.en-gb.html?aid=3041...</td>\n",
              "      <td>8.6</td>\n",
              "      <td>1,811 reviews</td>\n",
              "      <td>Fabulous</td>\n",
              "      <td>https://cf.bstatic.com/xdata/images/hotel/squa...</td>\n",
              "      <td>Rp 934,725</td>\n",
              "    </tr>\n",
              "  </tbody>\n",
              "</table>\n",
              "</div>\n",
              "      <button class=\"colab-df-convert\" onclick=\"convertToInteractive('df-2b0d15d4-d7d6-4e17-97f7-41ffa35483a9')\"\n",
              "              title=\"Convert this dataframe to an interactive table.\"\n",
              "              style=\"display:none;\">\n",
              "        \n",
              "  <svg xmlns=\"http://www.w3.org/2000/svg\" height=\"24px\"viewBox=\"0 0 24 24\"\n",
              "       width=\"24px\">\n",
              "    <path d=\"M0 0h24v24H0V0z\" fill=\"none\"/>\n",
              "    <path d=\"M18.56 5.44l.94 2.06.94-2.06 2.06-.94-2.06-.94-.94-2.06-.94 2.06-2.06.94zm-11 1L8.5 8.5l.94-2.06 2.06-.94-2.06-.94L8.5 2.5l-.94 2.06-2.06.94zm10 10l.94 2.06.94-2.06 2.06-.94-2.06-.94-.94-2.06-.94 2.06-2.06.94z\"/><path d=\"M17.41 7.96l-1.37-1.37c-.4-.4-.92-.59-1.43-.59-.52 0-1.04.2-1.43.59L10.3 9.45l-7.72 7.72c-.78.78-.78 2.05 0 2.83L4 21.41c.39.39.9.59 1.41.59.51 0 1.02-.2 1.41-.59l7.78-7.78 2.81-2.81c.8-.78.8-2.07 0-2.86zM5.41 20L4 18.59l7.72-7.72 1.47 1.35L5.41 20z\"/>\n",
              "  </svg>\n",
              "      </button>\n",
              "      \n",
              "  <style>\n",
              "    .colab-df-container {\n",
              "      display:flex;\n",
              "      flex-wrap:wrap;\n",
              "      gap: 12px;\n",
              "    }\n",
              "\n",
              "    .colab-df-convert {\n",
              "      background-color: #E8F0FE;\n",
              "      border: none;\n",
              "      border-radius: 50%;\n",
              "      cursor: pointer;\n",
              "      display: none;\n",
              "      fill: #1967D2;\n",
              "      height: 32px;\n",
              "      padding: 0 0 0 0;\n",
              "      width: 32px;\n",
              "    }\n",
              "\n",
              "    .colab-df-convert:hover {\n",
              "      background-color: #E2EBFA;\n",
              "      box-shadow: 0px 1px 2px rgba(60, 64, 67, 0.3), 0px 1px 3px 1px rgba(60, 64, 67, 0.15);\n",
              "      fill: #174EA6;\n",
              "    }\n",
              "\n",
              "    [theme=dark] .colab-df-convert {\n",
              "      background-color: #3B4455;\n",
              "      fill: #D2E3FC;\n",
              "    }\n",
              "\n",
              "    [theme=dark] .colab-df-convert:hover {\n",
              "      background-color: #434B5C;\n",
              "      box-shadow: 0px 1px 3px 1px rgba(0, 0, 0, 0.15);\n",
              "      filter: drop-shadow(0px 1px 2px rgba(0, 0, 0, 0.3));\n",
              "      fill: #FFFFFF;\n",
              "    }\n",
              "  </style>\n",
              "\n",
              "      <script>\n",
              "        const buttonEl =\n",
              "          document.querySelector('#df-2b0d15d4-d7d6-4e17-97f7-41ffa35483a9 button.colab-df-convert');\n",
              "        buttonEl.style.display =\n",
              "          google.colab.kernel.accessAllowed ? 'block' : 'none';\n",
              "\n",
              "        async function convertToInteractive(key) {\n",
              "          const element = document.querySelector('#df-2b0d15d4-d7d6-4e17-97f7-41ffa35483a9');\n",
              "          const dataTable =\n",
              "            await google.colab.kernel.invokeFunction('convertToInteractive',\n",
              "                                                     [key], {});\n",
              "          if (!dataTable) return;\n",
              "\n",
              "          const docLinkHtml = 'Like what you see? Visit the ' +\n",
              "            '<a target=\"_blank\" href=https://colab.research.google.com/notebooks/data_table.ipynb>data table notebook</a>'\n",
              "            + ' to learn more about interactive tables.';\n",
              "          element.innerHTML = '';\n",
              "          dataTable['output_type'] = 'display_data';\n",
              "          await google.colab.output.renderOutput(dataTable, element);\n",
              "          const docLink = document.createElement('div');\n",
              "          docLink.innerHTML = docLinkHtml;\n",
              "          element.appendChild(docLink);\n",
              "        }\n",
              "      </script>\n",
              "    </div>\n",
              "  </div>\n",
              "  "
            ],
            "text/plain": [
              "       hotel_name  ... hotel_price\n",
              "1  Ascott Jakarta  ...  Rp 934,725\n",
              "\n",
              "[1 rows x 7 columns]"
            ]
          },
          "metadata": {},
          "execution_count": 20
        }
      ]
    },
    {
      "cell_type": "code",
      "source": [
        "# Hasil 10 hotel rekomendasi\n",
        "hotel_recommendation('Ascott Jakarta', cosine_simA)"
      ],
      "metadata": {
        "colab": {
          "base_uri": "https://localhost:8080/",
          "height": 363
        },
        "id": "riZvYkifrzEk",
        "outputId": "53da23e3-2683-491f-b1db-d30e9118ae06"
      },
      "execution_count": 21,
      "outputs": [
        {
          "output_type": "execute_result",
          "data": {
            "text/html": [
              "\n",
              "  <div id=\"df-62470b38-dead-4367-8c27-bfd48d48789e\">\n",
              "    <div class=\"colab-df-container\">\n",
              "      <div>\n",
              "<style scoped>\n",
              "    .dataframe tbody tr th:only-of-type {\n",
              "        vertical-align: middle;\n",
              "    }\n",
              "\n",
              "    .dataframe tbody tr th {\n",
              "        vertical-align: top;\n",
              "    }\n",
              "\n",
              "    .dataframe thead th {\n",
              "        text-align: right;\n",
              "    }\n",
              "</style>\n",
              "<table border=\"1\" class=\"dataframe\">\n",
              "  <thead>\n",
              "    <tr style=\"text-align: right;\">\n",
              "      <th></th>\n",
              "      <th>hotel_name</th>\n",
              "      <th>review_score</th>\n",
              "      <th>review_score_title</th>\n",
              "      <th>hotel_price</th>\n",
              "    </tr>\n",
              "  </thead>\n",
              "  <tbody>\n",
              "    <tr>\n",
              "      <th>3</th>\n",
              "      <td>Shangri-La Hotel Jakarta</td>\n",
              "      <td>8.9</td>\n",
              "      <td>Fabulous</td>\n",
              "      <td>Rp 1,667,597</td>\n",
              "    </tr>\n",
              "    <tr>\n",
              "      <th>4</th>\n",
              "      <td>Ascott Kuningan Jakarta</td>\n",
              "      <td>8.6</td>\n",
              "      <td>Fabulous</td>\n",
              "      <td>Rp 1,274,625</td>\n",
              "    </tr>\n",
              "    <tr>\n",
              "      <th>6</th>\n",
              "      <td>Sheraton Grand Jakarta Gandaria City Hotel</td>\n",
              "      <td>8.9</td>\n",
              "      <td>Fabulous</td>\n",
              "      <td>Rp 1,742,400</td>\n",
              "    </tr>\n",
              "    <tr>\n",
              "      <th>8</th>\n",
              "      <td>DoubleTree by Hilton Jakarta - Diponegoro</td>\n",
              "      <td>8.6</td>\n",
              "      <td>Fabulous</td>\n",
              "      <td>Rp 898,425</td>\n",
              "    </tr>\n",
              "    <tr>\n",
              "      <th>9</th>\n",
              "      <td>Grand Hyatt Jakarta</td>\n",
              "      <td>8.7</td>\n",
              "      <td>Fabulous</td>\n",
              "      <td>Rp 1,682,256</td>\n",
              "    </tr>\n",
              "    <tr>\n",
              "      <th>18</th>\n",
              "      <td>Stanley Wahid Hasyim</td>\n",
              "      <td>8.6</td>\n",
              "      <td>Fabulous</td>\n",
              "      <td>Rp 389,911</td>\n",
              "    </tr>\n",
              "    <tr>\n",
              "      <th>21</th>\n",
              "      <td>Swissôtel Jakarta PIK Avenue</td>\n",
              "      <td>8.9</td>\n",
              "      <td>Fabulous</td>\n",
              "      <td>Rp 889,199</td>\n",
              "    </tr>\n",
              "    <tr>\n",
              "      <th>24</th>\n",
              "      <td>Hotel Mulia Senayan - Jakarta</td>\n",
              "      <td>8.8</td>\n",
              "      <td>Fabulous</td>\n",
              "      <td>Rp 1,707,010</td>\n",
              "    </tr>\n",
              "    <tr>\n",
              "      <th>28</th>\n",
              "      <td>Fraser Place Setiabudi Jakarta</td>\n",
              "      <td>8.9</td>\n",
              "      <td>Fabulous</td>\n",
              "      <td>Rp 1,090,264</td>\n",
              "    </tr>\n",
              "    <tr>\n",
              "      <th>39</th>\n",
              "      <td>Morrissey Hotel Residences</td>\n",
              "      <td>8.6</td>\n",
              "      <td>Fabulous</td>\n",
              "      <td>Rp 605,440</td>\n",
              "    </tr>\n",
              "  </tbody>\n",
              "</table>\n",
              "</div>\n",
              "      <button class=\"colab-df-convert\" onclick=\"convertToInteractive('df-62470b38-dead-4367-8c27-bfd48d48789e')\"\n",
              "              title=\"Convert this dataframe to an interactive table.\"\n",
              "              style=\"display:none;\">\n",
              "        \n",
              "  <svg xmlns=\"http://www.w3.org/2000/svg\" height=\"24px\"viewBox=\"0 0 24 24\"\n",
              "       width=\"24px\">\n",
              "    <path d=\"M0 0h24v24H0V0z\" fill=\"none\"/>\n",
              "    <path d=\"M18.56 5.44l.94 2.06.94-2.06 2.06-.94-2.06-.94-.94-2.06-.94 2.06-2.06.94zm-11 1L8.5 8.5l.94-2.06 2.06-.94-2.06-.94L8.5 2.5l-.94 2.06-2.06.94zm10 10l.94 2.06.94-2.06 2.06-.94-2.06-.94-.94-2.06-.94 2.06-2.06.94z\"/><path d=\"M17.41 7.96l-1.37-1.37c-.4-.4-.92-.59-1.43-.59-.52 0-1.04.2-1.43.59L10.3 9.45l-7.72 7.72c-.78.78-.78 2.05 0 2.83L4 21.41c.39.39.9.59 1.41.59.51 0 1.02-.2 1.41-.59l7.78-7.78 2.81-2.81c.8-.78.8-2.07 0-2.86zM5.41 20L4 18.59l7.72-7.72 1.47 1.35L5.41 20z\"/>\n",
              "  </svg>\n",
              "      </button>\n",
              "      \n",
              "  <style>\n",
              "    .colab-df-container {\n",
              "      display:flex;\n",
              "      flex-wrap:wrap;\n",
              "      gap: 12px;\n",
              "    }\n",
              "\n",
              "    .colab-df-convert {\n",
              "      background-color: #E8F0FE;\n",
              "      border: none;\n",
              "      border-radius: 50%;\n",
              "      cursor: pointer;\n",
              "      display: none;\n",
              "      fill: #1967D2;\n",
              "      height: 32px;\n",
              "      padding: 0 0 0 0;\n",
              "      width: 32px;\n",
              "    }\n",
              "\n",
              "    .colab-df-convert:hover {\n",
              "      background-color: #E2EBFA;\n",
              "      box-shadow: 0px 1px 2px rgba(60, 64, 67, 0.3), 0px 1px 3px 1px rgba(60, 64, 67, 0.15);\n",
              "      fill: #174EA6;\n",
              "    }\n",
              "\n",
              "    [theme=dark] .colab-df-convert {\n",
              "      background-color: #3B4455;\n",
              "      fill: #D2E3FC;\n",
              "    }\n",
              "\n",
              "    [theme=dark] .colab-df-convert:hover {\n",
              "      background-color: #434B5C;\n",
              "      box-shadow: 0px 1px 3px 1px rgba(0, 0, 0, 0.15);\n",
              "      filter: drop-shadow(0px 1px 2px rgba(0, 0, 0, 0.3));\n",
              "      fill: #FFFFFF;\n",
              "    }\n",
              "  </style>\n",
              "\n",
              "      <script>\n",
              "        const buttonEl =\n",
              "          document.querySelector('#df-62470b38-dead-4367-8c27-bfd48d48789e button.colab-df-convert');\n",
              "        buttonEl.style.display =\n",
              "          google.colab.kernel.accessAllowed ? 'block' : 'none';\n",
              "\n",
              "        async function convertToInteractive(key) {\n",
              "          const element = document.querySelector('#df-62470b38-dead-4367-8c27-bfd48d48789e');\n",
              "          const dataTable =\n",
              "            await google.colab.kernel.invokeFunction('convertToInteractive',\n",
              "                                                     [key], {});\n",
              "          if (!dataTable) return;\n",
              "\n",
              "          const docLinkHtml = 'Like what you see? Visit the ' +\n",
              "            '<a target=\"_blank\" href=https://colab.research.google.com/notebooks/data_table.ipynb>data table notebook</a>'\n",
              "            + ' to learn more about interactive tables.';\n",
              "          element.innerHTML = '';\n",
              "          dataTable['output_type'] = 'display_data';\n",
              "          await google.colab.output.renderOutput(dataTable, element);\n",
              "          const docLink = document.createElement('div');\n",
              "          docLink.innerHTML = docLinkHtml;\n",
              "          element.appendChild(docLink);\n",
              "        }\n",
              "      </script>\n",
              "    </div>\n",
              "  </div>\n",
              "  "
            ],
            "text/plain": [
              "                                    hotel_name  ...   hotel_price\n",
              "3                     Shangri-La Hotel Jakarta  ...  Rp 1,667,597\n",
              "4                      Ascott Kuningan Jakarta  ...  Rp 1,274,625\n",
              "6   Sheraton Grand Jakarta Gandaria City Hotel  ...  Rp 1,742,400\n",
              "8    DoubleTree by Hilton Jakarta - Diponegoro  ...    Rp 898,425\n",
              "9                          Grand Hyatt Jakarta  ...  Rp 1,682,256\n",
              "18                        Stanley Wahid Hasyim  ...    Rp 389,911\n",
              "21                Swissôtel Jakarta PIK Avenue  ...    Rp 889,199\n",
              "24               Hotel Mulia Senayan - Jakarta  ...  Rp 1,707,010\n",
              "28              Fraser Place Setiabudi Jakarta  ...  Rp 1,090,264\n",
              "39                  Morrissey Hotel Residences  ...    Rp 605,440\n",
              "\n",
              "[10 rows x 4 columns]"
            ]
          },
          "metadata": {},
          "execution_count": 21
        }
      ]
    },
    {
      "cell_type": "code",
      "source": [
        "import pickle"
      ],
      "metadata": {
        "id": "cr1gzFY5SR50"
      },
      "execution_count": 22,
      "outputs": []
    },
    {
      "cell_type": "code",
      "source": [
        "pickle.dump(dataset,open('dataset.pkl','wb'))\n",
        "pickle.dump(cosine_simA,open('cosine_simA.pkl','wb'))"
      ],
      "metadata": {
        "id": "GYB2ROafSVUM"
      },
      "execution_count": 23,
      "outputs": []
    }
  ]
}